{
 "cells": [
  {
   "cell_type": "code",
   "execution_count": null,
   "id": "7846f8bb-5b0b-4491-8399-26c335d75df4",
   "metadata": {},
   "outputs": [],
   "source": [
    "Q1. What is multiprocessing in python? Why is it useful?\n",
    "\n",
    "Ans: multiprocessing is a module that enables the execution of multiple processes concurrently. \n",
    "     It allows you to leverage the full potential of multicore processors and distribute the \n",
    "     workload across different CPU cores.\n",
    "        \n",
    "    Multiprocessing is useful for several reasons:\n",
    "        \n",
    "    1. Parallel Execution: By utilizing multiple processes, multiprocessing allows you to perform\n",
    "       tasks concurrently. This can significantly speed up the execution of computationally\n",
    "        intensive or time-consuming operations.\n",
    "        \n",
    "    2.Increased Throughput: With multiprocessing, you can process multiple tasks simultaneously, \n",
    "      which can lead to higher throughput and improved overall performance of your program.\n",
    "        \n",
    "    3. CPU-bound Tasks: If your program involves tasks that primarily require CPU resources,\n",
    "       such as mathematical computations or simulations, multiprocessing can effectively utilize\n",
    "        the available CPU cores, thereby reducing the processing time.\n",
    "        \n",
    "    4. Fault Isolation: By running processes in separate memory spaces, multiprocessing provides\n",
    "       fault isolation. If an error occurs in one process, it does not affect other processes.\n",
    "        This feature enhances the stability and reliability of your application.\n",
    "        \n",
    "    5. Improved Responsiveness: Multiprocessing allows you to run computationally intensive tasks\n",
    "       in the background while keeping the main program responsive and interactive. This is particularly\n",
    "        beneficial for applications that involve user interfaces or real-time processing."
   ]
  },
  {
   "cell_type": "code",
   "execution_count": null,
   "id": "f1f2ad0f-592c-479f-a1cb-589efb535137",
   "metadata": {},
   "outputs": [],
   "source": [
    "Q2. What are the differences between multiprocessing and multithreading?\n",
    "\n",
    "Ans: 1.Execution Model:\n",
    "    \n",
    "    . Multiprocessing: In multiprocessing, multiple processes are created, each with its own memory \n",
    "      space and resources. These processes can run independently and concurrently on separate CPU cores.\n",
    "        \n",
    "    . Multithreading: In multithreading, multiple threads are created within a single process. Threads \n",
    "      share the same memory space and resources of the parent process and are scheduled by the operating \n",
    "        system's thread scheduler.\n",
    "        \n",
    "    2. Concurrency:\n",
    "        \n",
    "    . Multiprocessing: Processes in multiprocessing can run in parallel, executing tasks simultaneously on\n",
    "      different CPU cores. This allows for true parallelism and efficient utilization of multicore processors.\n",
    "        \n",
    "    . Multithreading: Threads run concurrently, but not necessarily in parallel. The operating system's \n",
    "      thread scheduler switches between threads, giving them time slices to execute. However, due to the\n",
    "      Global Interpreter Lock (GIL) in CPython (the reference implementation of Python), only one thread \n",
    "      can execute Python bytecode at a time, limiting the parallelism for CPU-bound tasks in Python.\n",
    "        \n",
    "    3. Memory:\n",
    "        \n",
    "    . Multiprocessing: Each process has its own memory space. Therefore, memory is not shared between processes\n",
    "      by default. Communication between processes usually involves message passing mechanisms provided by the\n",
    "        multiprocessing module, such as pipes or queues.\n",
    "        \n",
    "    . Multithreading: Threads share the same memory space of the parent process. This allows for sharing data\n",
    "      between threads more easily, as they can directly access the same variables and data structures. However,\n",
    "      care must be taken to synchronize access to shared data to avoid race conditions and ensure thread safety.\n",
    "    \n",
    "    4. Resource Overhead:\n",
    "        \n",
    "    . Multiprocessing: Creating and managing processes typically incurs more overhead in terms\n",
    "     of memory and system resources compared to threads.\n",
    "        \n",
    "    . Multithreading: Creating threads has lower overhead compared to processes, as they share the same\n",
    "       memory space and resources of the parent process.\n",
    "        \n",
    "    5. Use Cases:\n",
    "        \n",
    "    . Multiprocessing: Multiprocessing is well-suited for CPU-bound tasks, where parallel execution can \n",
    "      lead to significant performance improvements.It is particularly useful when leveraging the power\n",
    "        of multicore processors.\n",
    "        \n",
    "    . Multithreading: Multithreading is suitable for I/O-bound tasks, where threads can overlap I/O \n",
    "      operations, such as reading from or writing to files, network communication, or interacting with \n",
    "        user interfaces. It can enhance responsiveness and improve the utilization of CPU resources during I/O waits."
   ]
  },
  {
   "cell_type": "code",
   "execution_count": null,
   "id": "22b3b672-bf51-4fd9-9906-d1ae6b680a74",
   "metadata": {},
   "outputs": [],
   "source": [
    "Q3. Write a python code to create a process using the multiprocessing module."
   ]
  },
  {
   "cell_type": "code",
   "execution_count": 1,
   "id": "43adfb4d-aed6-487f-aa59-8f174081030b",
   "metadata": {},
   "outputs": [
    {
     "name": "stdout",
     "output_type": "stream",
     "text": [
      "this is my main program\n",
      "this is my multiprocessing program\n"
     ]
    }
   ],
   "source": [
    "import multiprocessing\n",
    "\n",
    "def test():\n",
    "    print(\"this is my multiprocessing program\")\n",
    "    \n",
    "if __name__ == '__main__':\n",
    "    m = multiprocessing.Process(target=test)\n",
    "    print(\"this is my main program\")\n",
    "    m.start()\n",
    "    m.join()"
   ]
  },
  {
   "cell_type": "code",
   "execution_count": null,
   "id": "996d5cea-be44-46fd-abf4-bbe227793ae4",
   "metadata": {},
   "outputs": [],
   "source": [
    "Q4. What is a multiprocessing pool in python? Why is it used?\n",
    "\n",
    "Ans: A multiprocessing pool is a mechanism provided by the multiprocessing module to efficiently\n",
    "    manage a pool of worker processes. It allows you to parallelize the execution of a function across\n",
    "    multiple input values by distributing the workload among the available processes.\n",
    "    \n",
    "    The multiprocessing pool is used for the following reasons:\n",
    "        \n",
    "    1. Parallel Execution: A pool enables concurrent execution of a function on different inputs by utilizing\n",
    "       multiple processes. It automatically divides the workload among the processes, allowing for parallel \n",
    "        execution and potentially reducing the overall processing time.\n",
    "        \n",
    "    2. Simplified Interface: The multiprocessing pool provides a convenient and high-level interface for parallel\n",
    "       processing. It abstracts away the complexities of process creation, management, and synchronization, making\n",
    "        it easier to write parallel code compared to manually managing individual processes.\n",
    "        \n",
    "    3. Resource Management: The pool manages the creation and management of a fixed number of worker processes. It \n",
    "       helps avoid the overhead of creating new processes for each task and provides a more efficient way to reuse\n",
    "        existing processes across multiple function calls.\n",
    "        \n",
    "    4. Load Balancing: The pool evenly distributes the tasks across the available worker processes, ensuring that the\n",
    "       workload is balanced. This helps in maximizing the utilization of system resources and improving overall performance.\n",
    "        \n",
    "    5. Task Synchronization: The pool provides mechanisms for synchronization and coordination between the main program and\n",
    "       worker processes. For example, it offers methods like apply_async() and map_async() to submit tasks asynchronously and \n",
    "        retrieve the results when they are ready.\n",
    "        \n",
    "    6. Connection Pooling: The multiprocessing pool maintains a connection pool between the main program and worker processes.\n",
    "       This allows for efficient communication and data exchange between the main program and the workers, enabling the passing \n",
    "        of input values and retrieval of output values."
   ]
  },
  {
   "cell_type": "code",
   "execution_count": null,
   "id": "0283d2ac-1d95-43e2-b72f-6d9def883afd",
   "metadata": {},
   "outputs": [],
   "source": [
    "Q5. How can we create a pool of worker processes in python using the multiprocessing module?"
   ]
  },
  {
   "cell_type": "code",
   "execution_count": 2,
   "id": "b78a475d-8669-4379-95e2-b5e2f1f5fe74",
   "metadata": {},
   "outputs": [
    {
     "name": "stdout",
     "output_type": "stream",
     "text": [
      "[1, 4, 9, 16, 25, 36, 49, 64]\n"
     ]
    }
   ],
   "source": [
    "import multiprocessing \n",
    "\n",
    "def square(n):\n",
    "    return n**2\n",
    "\n",
    "if __name__ == '__main__':\n",
    "    pool = multiprocessing.Pool(processes=8)\n",
    "    \n",
    "    n = [1,2,3,4,5,6,7,8]\n",
    "    \n",
    "    result = pool.map(square , n)\n",
    "    \n",
    "    pool.close()\n",
    "    pool.join()\n",
    "    \n",
    "    print(result)\n",
    "    \n",
    "    \n"
   ]
  },
  {
   "cell_type": "code",
   "execution_count": null,
   "id": "f2765a8a-8aea-46e7-85e2-6152bdb6537c",
   "metadata": {},
   "outputs": [],
   "source": [
    "Q6. Write a python program to create 4 processes, each process should print a different number using the\n",
    "multiprocessing module in python."
   ]
  },
  {
   "cell_type": "code",
   "execution_count": 5,
   "id": "3d628352-e7c2-40d5-a0cb-393027d47570",
   "metadata": {},
   "outputs": [
    {
     "name": "stdout",
     "output_type": "stream",
     "text": [
      "Process ID: Process-18\n",
      "Process ID:Number  Process-190\n",
      "\n",
      "NumberProcess ID:  1Process-20\n",
      "\n",
      "Process ID:Number  Process-212\n",
      "\n",
      "Number 3\n"
     ]
    }
   ],
   "source": [
    "import multiprocessing\n",
    "\n",
    "def print_number(number):\n",
    "    \n",
    "    print(\"Process ID:\" , multiprocessing.current_process().name)\n",
    "    print(\"Number\", number)\n",
    "    \n",
    "if __name__ == '__main__':\n",
    "    processes = []\n",
    "    \n",
    "    for i in range(4):\n",
    "        process = multiprocessing.Process(target=print_number , args=(i,))\n",
    "        processes.append(process)\n",
    "        process.start()\n",
    "        \n",
    "    for process in processes:\n",
    "        process.join()\n",
    "        "
   ]
  },
  {
   "cell_type": "code",
   "execution_count": null,
   "id": "56dc4710-9650-4985-81bc-304c32176925",
   "metadata": {},
   "outputs": [],
   "source": []
  }
 ],
 "metadata": {
  "kernelspec": {
   "display_name": "Python 3 (ipykernel)",
   "language": "python",
   "name": "python3"
  },
  "language_info": {
   "codemirror_mode": {
    "name": "ipython",
    "version": 3
   },
   "file_extension": ".py",
   "mimetype": "text/x-python",
   "name": "python",
   "nbconvert_exporter": "python",
   "pygments_lexer": "ipython3",
   "version": "3.10.8"
  }
 },
 "nbformat": 4,
 "nbformat_minor": 5
}
